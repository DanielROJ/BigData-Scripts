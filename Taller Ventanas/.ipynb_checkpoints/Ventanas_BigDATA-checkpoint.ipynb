{
 "cells": [
  {
   "cell_type": "code",
   "execution_count": 1,
   "metadata": {
    "scrolled": true
   },
   "outputs": [],
   "source": [
    "from pyspark.sql import SparkSession\n",
    "from pyspark.sql import Window\n",
    "from pyspark.sql import functions as f\n",
    "from pyspark.sql.functions import col\n",
    "from matplotlib import pyplot as plt\n",
    "import numpy as np\n",
    "import pandas as pd\n",
    "import os\n",
    "\n",
    "os.environ[\"JAVA_HOME\"]=\"/usr/lib/jvm/java-8-openjdk-amd64\"\n",
    "\n",
    "spark = SparkSession.builder.appName('ABC').getOrCreate();"
   ]
  },
  {
   "cell_type": "code",
   "execution_count": 7,
   "metadata": {},
   "outputs": [],
   "source": [
    "df_ec = spark.read.option('inferSchema','true').csv('EC*',header = True)\n",
    "df_aval = spark.read.option('inferSchema','true').csv('AVAL*',header = True)\n",
    "df_avh = spark.read.option('inferSchema','true').csv('AVH*',header = True)"
   ]
  },
  {
   "cell_type": "code",
   "execution_count": 30,
   "metadata": {},
   "outputs": [
    {
     "name": "stdout",
     "output_type": "stream",
     "text": [
      "root\n",
      " |-- Date: string (nullable = true)\n",
      " |-- Open: string (nullable = true)\n",
      " |-- High: string (nullable = true)\n",
      " |-- Low: string (nullable = true)\n",
      " |-- Close: string (nullable = true)\n",
      " |-- Adj Close: string (nullable = true)\n",
      " |-- Volume: string (nullable = true)\n",
      "\n",
      "root\n",
      " |-- Date: string (nullable = true)\n",
      " |-- Open: string (nullable = true)\n",
      " |-- High: string (nullable = true)\n",
      " |-- Low: string (nullable = true)\n",
      " |-- Close: string (nullable = true)\n",
      " |-- Adj Close: string (nullable = true)\n",
      " |-- Volume: string (nullable = true)\n",
      "\n",
      "root\n",
      " |-- Date: string (nullable = true)\n",
      " |-- Open: string (nullable = true)\n",
      " |-- High: string (nullable = true)\n",
      " |-- Low: string (nullable = true)\n",
      " |-- Close: string (nullable = true)\n",
      " |-- Adj Close: string (nullable = true)\n",
      " |-- Volume: string (nullable = true)\n",
      "\n"
     ]
    }
   ],
   "source": [
    "df_ec.printSchema();\n",
    "df_aval.printSchema();\n",
    "df_avh.printSchema();"
   ]
  },
  {
   "cell_type": "code",
   "execution_count": 8,
   "metadata": {},
   "outputs": [
    {
     "name": "stderr",
     "output_type": "stream",
     "text": [
      "/home/droro/Documents/Python Proyectos/BigData-Scripts/Taller Ventanas/env/local/lib/python2.7/site-packages/pandas/plotting/_converter.py:129: FutureWarning: Using an implicitly registered datetime converter for a matplotlib plotting method. The converter was registered by pandas on import. Future versions of pandas will require you to explicitly register matplotlib converters.\n",
      "\n",
      "To register the converters:\n",
      "\t>>> from pandas.plotting import register_matplotlib_converters\n",
      "\t>>> register_matplotlib_converters()\n",
      "  warnings.warn(msg, FutureWarning)\n"
     ]
    },
    {
     "data": {
      "text/plain": [
       "<matplotlib.legend.Legend at 0x7f19996bacd0>"
      ]
     },
     "execution_count": 8,
     "metadata": {},
     "output_type": "execute_result"
    },
    {
     "data": {
      "image/png": "[encoded data removed]",
      "text/plain": [
       "<Figure size 432x288 with 1 Axes>"
      ]
     },
     "metadata": {
      "needs_background": "light"
     },
     "output_type": "display_data"
    }
   ],
   "source": [
    "\n",
    "window1 = Window.orderBy(df_ec.Date).rowsBetween(-20,0)\n",
    "df17 = df_ec.select('Date', f.avg('Close').over(window1).alias('Average'))\n",
    "fig, ax = plt.subplots()\n",
    "EC_pd = df_ec.toPandas()\n",
    "EC_AVG = df17.toPandas()\n",
    "EC_pd.set_index(\"Date\")\n",
    "EC_AVG.set_index(\"Date\")\n",
    "ax.plot(EC_pd.Date, EC_pd.Close, label=\"Real Value\")\n",
    "ax.plot(EC_AVG.Date, EC_AVG.Average, label=\"Mobile Half\")\n",
    "ax.legend()\n",
    "\n",
    "\n",
    "\n",
    "\n",
    "\n"
   ]
  },
  {
   "cell_type": "code",
   "execution_count": 42,
   "metadata": {},
   "outputs": [
    {
     "name": "stdout",
     "output_type": "stream",
     "text": [
      "+-------+-----+\n",
      "|Company|count|\n",
      "+-------+-----+\n",
      "|   AVAL|  252|\n",
      "|     EC|  252|\n",
      "+-------+-----+\n",
      "\n"
     ]
    }
   ],
   "source": [
    "from pyspark.sql import Window\n",
    "window = Window.orderBy(df_ec.Date.asc());\n",
    "\n",
    "df = df_ec.select('Date','Close',f.lag('Close').over(window).alias('prev_close'));\n",
    "\n",
    "df_total = df_ec.select(f.lit('EC').alias('Company'),'Date','Close').union(df_aval.select(f.lit('AVAL').alias('Company'),'Date','Close'));\n",
    "\n",
    "df_total.groupBy(\"Company\").count().show(5);"
   ]
  },
  {
   "cell_type": "code",
   "execution_count": 44,
   "metadata": {},
   "outputs": [],
   "source": [
    "window2 = Window.partitionBy('Company').orderBy(df_total.Date.asc());"
   ]
  },
  {
   "cell_type": "code",
   "execution_count": 49,
   "metadata": {},
   "outputs": [
    {
     "name": "stdout",
     "output_type": "stream",
     "text": [
      "+-------+----------+----------+\n",
      "|Company|      Date|      prev|\n",
      "+-------+----------+----------+\n",
      "|     EC|2018-09-25|      null|\n",
      "|     EC|2018-09-26|2018-09-25|\n",
      "|     EC|2018-09-27|2018-09-26|\n",
      "|     EC|2018-09-28|2018-09-27|\n",
      "|     EC|2018-10-01|2018-09-28|\n",
      "|     EC|2018-10-02|2018-10-01|\n",
      "|     EC|2018-10-03|2018-10-02|\n",
      "|     EC|2018-10-04|2018-10-03|\n",
      "|     EC|2018-10-05|2018-10-04|\n",
      "|     EC|2018-10-08|2018-10-05|\n",
      "+-------+----------+----------+\n",
      "only showing top 10 rows\n",
      "\n"
     ]
    }
   ],
   "source": [
    "df_total.select ('Company','Date',f.lag('Date').over(window2).alias('prev')).where(\"Company = 'EC' \").show(10);"
   ]
  },
  {
   "cell_type": "code",
   "execution_count": 52,
   "metadata": {},
   "outputs": [
    {
     "name": "stdout",
     "output_type": "stream",
     "text": [
      "+-------+----------+--------+-----------------+\n",
      "|Company|      Date|   Close|              avg|\n",
      "+-------+----------+--------+-----------------+\n",
      "|   AVAL|2018-09-25|7.620000|             7.62|\n",
      "|   AVAL|2018-09-26|7.650000|            7.635|\n",
      "|   AVAL|2018-09-27|7.850000|7.706666666666666|\n",
      "|   AVAL|2018-09-28|7.760000|7.719999999999999|\n",
      "|   AVAL|2018-10-01|7.700000|7.715999999999999|\n",
      "|   AVAL|2018-10-02|7.700000|7.713333333333334|\n",
      "|   AVAL|2018-10-03|7.690000|             7.71|\n",
      "|   AVAL|2018-10-04|7.660000|7.703749999999999|\n",
      "|   AVAL|2018-10-05|7.620000|7.694444444444445|\n",
      "|   AVAL|2018-10-08|7.590000|            7.684|\n",
      "+-------+----------+--------+-----------------+\n",
      "only showing top 10 rows\n",
      "\n"
     ]
    }
   ],
   "source": [
    "df_total.select ('Company','Date','Close',f.avg('Close').over(window2).alias('avg')).show(10);"
   ]
  },
  {
   "cell_type": "code",
   "execution_count": 55,
   "metadata": {},
   "outputs": [
    {
     "name": "stdout",
     "output_type": "stream",
     "text": [
      "+----------+--------------------+------------------+\n",
      "|      Date|               dates|       prom_closer|\n",
      "+----------+--------------------+------------------+\n",
      "|2018-09-25|        [2018-09-25]|             26.32|\n",
      "|2018-09-26|[2018-09-25, 2018...|        26.2699995|\n",
      "|2018-09-27|[2018-09-25, 2018...|26.383333333333336|\n",
      "|2018-09-28|[2018-09-25, 2018...|26.520000000000003|\n",
      "|2018-10-01|[2018-09-25, 2018...|26.746000000000002|\n",
      "|2018-10-02|[2018-09-25, 2018...|        26.8116665|\n",
      "|2018-10-03|[2018-09-26, 2018...|        27.0216665|\n",
      "|2018-10-04|[2018-09-27, 2018...|        27.1283335|\n",
      "|2018-10-05|[2018-09-28, 2018...|27.136666666666667|\n",
      "|2018-10-08|[2018-10-01, 2018...|27.021666666666665|\n",
      "|2018-10-09|[2018-10-02, 2018...|             26.87|\n",
      "|2018-10-10|[2018-10-03, 2018...|26.628333666666663|\n",
      "|2018-10-11|[2018-10-04, 2018...|26.223333666666665|\n",
      "|2018-10-12|[2018-10-05, 2018...|25.996666833333332|\n",
      "|2018-10-15|[2018-10-08, 2018...|25.675000166666663|\n",
      "|2018-10-16|[2018-10-09, 2018...|25.588333333333335|\n",
      "|2018-10-17|[2018-10-10, 2018...|25.444999833333338|\n",
      "|2018-10-18|[2018-10-11, 2018...|         25.388333|\n",
      "|2018-10-19|[2018-10-12, 2018...|25.461666333333337|\n",
      "|2018-10-22|[2018-10-15, 2018...|25.511666166666668|\n",
      "+----------+--------------------+------------------+\n",
      "only showing top 20 rows\n",
      "\n"
     ]
    }
   ],
   "source": [
    "window3 = Window.orderBy(df_ec.Date.asc()).rowsBetween(-5,0);\n",
    "df_ec.select('Date',f.collect_list('Date').over(window3).alias('dates'),f.avg(\"Close\").over(window3).alias('prom_closer')).show(20);"
   ]
  }
 ],
 "metadata": {
  "kernelspec": {
   "display_name": "Python 2",
   "language": "python",
   "name": "python2"
  },
  "language_info": {
   "codemirror_mode": {
    "name": "ipython",
    "version": 2
   },
   "file_extension": ".py",
   "mimetype": "text/x-python",
   "name": "python",
   "nbconvert_exporter": "python",
   "pygments_lexer": "ipython2",
   "version": "2.7.15+"
  }
 },
 "nbformat": 4,
 "nbformat_minor": 2
}
