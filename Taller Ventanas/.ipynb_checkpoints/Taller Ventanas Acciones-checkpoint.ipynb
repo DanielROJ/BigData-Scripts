{
 "cells": [
  {
   "cell_type": "code",
   "execution_count": 9,
   "metadata": {},
   "outputs": [],
   "source": [
    "from pyspark.sql import SparkSession\n",
    "from pyspark.sql import Window\n",
    "from pyspark.sql import functions as f\n",
    "from pyspark.sql.functions import col\n",
    "from matplotlib import pyplot as plt\n",
    "import numpy as np\n",
    "import pandas as pd\n",
    "import os\n",
    "\n",
    "os.environ[\"JAVA_HOME\"]=\"/usr/lib/jvm/java-8-openjdk-amd64\"\n",
    "\n",
    "spark = SparkSession.builder.appName('ABC').getOrCreate();"
   ]
  },
  {
   "cell_type": "code",
   "execution_count": 4,
   "metadata": {},
   "outputs": [],
   "source": [
    "df_ec = spark.read.option('inferSchema','true').csv('EC*',header = True)\n",
    "df_aval = spark.read.option('inferSchema','true').csv('AVAL*',header = True)\n",
    "df_avh = spark.read.option('inferSchema','true').csv('AVH*',header = True)"
   ]
  },
  {
   "cell_type": "code",
   "execution_count": 6,
   "metadata": {},
   "outputs": [
    {
     "name": "stdout",
     "output_type": "stream",
     "text": [
      "root\n",
      " |-- Date: timestamp (nullable = true)\n",
      " |-- Open: double (nullable = true)\n",
      " |-- High: double (nullable = true)\n",
      " |-- Low: double (nullable = true)\n",
      " |-- Close: double (nullable = true)\n",
      " |-- Adj Close: double (nullable = true)\n",
      " |-- Volume: integer (nullable = true)\n",
      "\n",
      "root\n",
      " |-- Date: timestamp (nullable = true)\n",
      " |-- Open: double (nullable = true)\n",
      " |-- High: double (nullable = true)\n",
      " |-- Low: double (nullable = true)\n",
      " |-- Close: double (nullable = true)\n",
      " |-- Adj Close: double (nullable = true)\n",
      " |-- Volume: integer (nullable = true)\n",
      "\n",
      "root\n",
      " |-- Date: timestamp (nullable = true)\n",
      " |-- Open: double (nullable = true)\n",
      " |-- High: double (nullable = true)\n",
      " |-- Low: double (nullable = true)\n",
      " |-- Close: double (nullable = true)\n",
      " |-- Adj Close: double (nullable = true)\n",
      " |-- Volume: integer (nullable = true)\n",
      "\n"
     ]
    }
   ],
   "source": [
    "df_ec.printSchema();\n",
    "df_aval.printSchema();\n",
    "df_avh.printSchema();"
   ]
  },
  {
   "cell_type": "code",
   "execution_count": 7,
   "metadata": {},
   "outputs": [
    {
     "ename": "NameError",
     "evalue": "name 'punto' is not defined",
     "output_type": "error",
     "traceback": [
      "\u001b[0;31m---------------------------------------------------------------------------\u001b[0m",
      "\u001b[0;31mNameError\u001b[0m                                 Traceback (most recent call last)",
      "\u001b[0;32m<ipython-input-7-4b83ccc5f444>\u001b[0m in \u001b[0;36m<module>\u001b[0;34m()\u001b[0m\n\u001b[0;32m----> 1\u001b[0;31m \u001b[0mpunto\u001b[0m\u001b[0;34m\u001b[0m\u001b[0;34m\u001b[0m\u001b[0m\n\u001b[0m",
      "\u001b[0;31mNameError\u001b[0m: name 'punto' is not defined"
     ]
    }
   ],
   "source": [
    "punto 1\n"
   ]
  },
  {
   "cell_type": "code",
   "execution_count": 30,
   "metadata": {},
   "outputs": [
    {
     "name": "stdout",
     "output_type": "stream",
     "text": [
      "+----------+---------+---------+--------------------+\n",
      "|      Date|     Open|    Close|        Porcentaje %|\n",
      "+----------+---------+---------+--------------------+\n",
      "|2018-09-24|25.120001|    26.01|   3.542989508638965|\n",
      "|2018-09-25|26.209999|    26.32|  0.4196909736623815|\n",
      "|2018-09-26|26.139999|26.219999|  0.3060443881424856|\n",
      "|2018-09-27|    26.41|26.610001|  0.7572926921620611|\n",
      "|2018-09-28|26.459999|    26.93|   1.776269908400223|\n",
      "|2018-10-01|    27.16|    27.65|  1.8041237113402004|\n",
      "|2018-10-02|    27.65|27.139999| -1.8444882459312806|\n",
      "|2018-10-03|27.280001|    27.58|  1.0997030388671896|\n",
      "|2018-10-04|     27.5|26.860001| -2.3272690909090894|\n",
      "|2018-10-05|26.809999|    26.66| -0.5594890175117168|\n",
      "|2018-10-08|    26.34|    26.24|-0.37965072133637595|\n",
      "|2018-10-09|    26.34|    26.74|  1.5186028853454767|\n",
      "|2018-10-10|    26.73|25.690001|  -3.890755705200156|\n",
      "|2018-10-11|25.309999|    25.15| -0.6321572750753671|\n",
      "|2018-10-12|25.549999|     25.5|-0.19569081000746685|\n",
      "|2018-10-15|    25.67|    24.73| -3.6618620958317147|\n",
      "|2018-10-16|24.790001|25.719999|  3.7515044876359673|\n",
      "|2018-10-17|25.610001|25.879999|  1.0542678229493276|\n",
      "|2018-10-18|     25.5|    25.35| -0.5882352941176415|\n",
      "|2018-10-19|25.559999|    25.59| 0.11737480897396987|\n",
      "+----------+---------+---------+--------------------+\n",
      "only showing top 20 rows\n",
      "\n",
      "+----------+----+-----+--------------------+\n",
      "|      Date|Open|Close|        Porcentaje %|\n",
      "+----------+----+-----+--------------------+\n",
      "|2018-09-24|7.54| 7.59|  0.6631299734747987|\n",
      "|2018-09-25|7.61| 7.62|  0.1314060446780524|\n",
      "|2018-09-26|7.62| 7.65| 0.39370078740157805|\n",
      "|2018-09-27|7.61| 7.85|  3.1537450722733156|\n",
      "|2018-09-28|7.84| 7.76|  -1.020408163265307|\n",
      "|2018-10-01|7.72|  7.7|-0.25906735751294785|\n",
      "|2018-10-02|7.66|  7.7|  0.5221932114882512|\n",
      "|2018-10-03|7.74| 7.69| -0.6459948320413413|\n",
      "|2018-10-04| 7.7| 7.66| -0.5194805194805199|\n",
      "|2018-10-05|7.69| 7.62|  -0.910273081924581|\n",
      "|2018-10-08|7.65| 7.59| -0.7843137254902025|\n",
      "|2018-10-09|7.65| 7.65|                 0.0|\n",
      "|2018-10-10|7.64| 7.44|   -2.61780104712041|\n",
      "|2018-10-11|7.42| 7.32| -1.3477088948787015|\n",
      "|2018-10-12|7.32| 7.35| 0.40983606557376173|\n",
      "|2018-10-15| 7.3| 7.32| 0.27397260273973234|\n",
      "|2018-10-16|7.36| 7.48|  1.6304347826086971|\n",
      "|2018-10-17|7.42| 7.47|  0.6738544474393507|\n",
      "|2018-10-18|7.41| 7.31| -1.3495276653171462|\n",
      "|2018-10-19|7.32| 7.25| -0.9562841530054683|\n",
      "+----------+----+-----+--------------------+\n",
      "only showing top 20 rows\n",
      "\n",
      "+----------+----+-----+--------------------+\n",
      "|      Date|Open|Close|        Porcentaje %|\n",
      "+----------+----+-----+--------------------+\n",
      "|2018-09-24|5.77| 5.72| -0.8665511265164615|\n",
      "|2018-09-25|5.74|  5.7| -0.6968641114982584|\n",
      "|2018-09-26|5.67|  5.6|  -1.234567901234573|\n",
      "|2018-09-27| 5.6| 5.69|  1.6071428571428705|\n",
      "|2018-09-28| 5.7| 5.62| -1.4035087719298258|\n",
      "|2018-10-01|5.63| 5.61|-0.35523978685612034|\n",
      "|2018-10-02| 5.6| 5.48|  -2.142857142857129|\n",
      "|2018-10-03|5.48| 5.66|  3.2846715328467098|\n",
      "|2018-10-04|5.62| 5.69|  1.2455516014234926|\n",
      "|2018-10-05|5.67| 5.61| -1.0582010582010513|\n",
      "|2018-10-08|5.61| 5.71|  1.7825311942958937|\n",
      "|2018-10-09|5.73| 5.73|                 0.0|\n",
      "|2018-10-10|5.75|  5.5| -4.3478260869565215|\n",
      "|2018-10-11|5.42| 5.32| -1.8450184501844953|\n",
      "|2018-10-12|5.36| 5.36|                 0.0|\n",
      "|2018-10-15|5.34|  5.4|   1.123595505617987|\n",
      "|2018-10-16|5.46| 5.64|  3.2967032967032917|\n",
      "|2018-10-17|5.69| 5.55| -2.4604569420035247|\n",
      "|2018-10-18| 5.5| 5.44| -1.0909090909090837|\n",
      "|2018-10-19|5.42| 5.45|  0.5535055350553552|\n",
      "+----------+----+-----+--------------------+\n",
      "only showing top 20 rows\n",
      "\n"
     ]
    }
   ],
   "source": [
    "window1 = Window.orderBy(df_ec.Date); \n",
    "df_daily_EC= df_ec.select(f.col('Date').cast('date'),'Open','Close',((df_ec['Close']-df_ec['Open'])*100/df_ec['Open']).alias('Porcentaje %')).show();\n",
    "df_daily_AVAL= df_aval.select(f.col('Date').cast('date'),'Open','Close',((df_aval['Close']-df_aval['Open'])*100/df_aval['Open']).alias('Porcentaje %')).show();\n",
    "df_daily_EC= df_avh.select(f.col('Date').cast('date'),'Open','Close',((df_avh['Close']-df_avh['Open'])*100/df_avh['Open']).alias('Porcentaje %')).show()"
   ]
  },
  {
   "cell_type": "code",
   "execution_count": 35,
   "metadata": {},
   "outputs": [
    {
     "name": "stdout",
     "output_type": "stream",
     "text": [
      "+----+-----+---------+---------+\n",
      "|year|month|     Open|    Close|\n",
      "+----+-----+---------+---------+\n",
      "|2018|    9|25.120001|    26.01|\n",
      "|2018|    9|26.209999|    26.32|\n",
      "|2018|    9|26.139999|26.219999|\n",
      "|2018|    9|    26.41|26.610001|\n",
      "|2018|    9|26.459999|    26.93|\n",
      "|2018|   10|    27.16|    27.65|\n",
      "|2018|   10|    27.65|27.139999|\n",
      "|2018|   10|27.280001|    27.58|\n",
      "|2018|   10|     27.5|26.860001|\n",
      "|2018|   10|26.809999|    26.66|\n",
      "|2018|   10|    26.34|    26.24|\n",
      "|2018|   10|    26.34|    26.74|\n",
      "|2018|   10|    26.73|25.690001|\n",
      "|2018|   10|25.309999|    25.15|\n",
      "|2018|   10|25.549999|     25.5|\n",
      "|2018|   10|    25.67|    24.73|\n",
      "|2018|   10|24.790001|25.719999|\n",
      "|2018|   10|25.610001|25.879999|\n",
      "|2018|   10|     25.5|    25.35|\n",
      "|2018|   10|25.559999|    25.59|\n",
      "+----+-----+---------+---------+\n",
      "only showing top 20 rows\n",
      "\n"
     ]
    }
   ],
   "source": [
    "df_month= df_ec.select(f.year(f.col('Date').cast('date')).alias('year'),f.month(f.col('Date').cast('date')).alias('month'),'Open','Close');\n",
    "df_month2= df_month.groupBy('year','Month').agg({})"
   ]
  }
 ],
 "metadata": {
  "kernelspec": {
   "display_name": "Python 2",
   "language": "python",
   "name": "python2"
  },
  "language_info": {
   "codemirror_mode": {
    "name": "ipython",
    "version": 2
   },
   "file_extension": ".py",
   "mimetype": "text/x-python",
   "name": "python",
   "nbconvert_exporter": "python",
   "pygments_lexer": "ipython2",
   "version": "2.7.15+"
  }
 },
 "nbformat": 4,
 "nbformat_minor": 2
}
