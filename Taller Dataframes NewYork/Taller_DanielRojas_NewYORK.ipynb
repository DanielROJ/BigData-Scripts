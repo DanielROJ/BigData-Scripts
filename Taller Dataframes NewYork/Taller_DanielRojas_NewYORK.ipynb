{
 "cells": [
  {
   "cell_type": "code",
   "execution_count": 1,
   "metadata": {
    "scrolled": true
   },
   "outputs": [
    {
     "name": "stdout",
     "output_type": "stream",
     "text": [
      "root\n",
      " |-- VendorID: string (nullable = true)\n",
      " |-- tpep_pickup_datetime: string (nullable = true)\n",
      " |-- tpep_dropoff_datetime: string (nullable = true)\n",
      " |-- passenger_count: string (nullable = true)\n",
      " |-- trip_distance: string (nullable = true)\n",
      " |-- RatecodeID: string (nullable = true)\n",
      " |-- store_and_fwd_flag: string (nullable = true)\n",
      " |-- PULocationID: string (nullable = true)\n",
      " |-- DOLocationID: string (nullable = true)\n",
      " |-- payment_type: string (nullable = true)\n",
      " |-- fare_amount: string (nullable = true)\n",
      " |-- extra: string (nullable = true)\n",
      " |-- mta_tax: string (nullable = true)\n",
      " |-- tip_amount: string (nullable = true)\n",
      " |-- tolls_amount: string (nullable = true)\n",
      " |-- improvement_surcharge: string (nullable = true)\n",
      " |-- total_amount: string (nullable = true)\n",
      " |-- congestion_surcharge: string (nullable = true)\n",
      "\n",
      "root\n",
      " |-- LocationID: string (nullable = true)\n",
      " |-- Borough: string (nullable = true)\n",
      " |-- Zone: string (nullable = true)\n",
      " |-- service_zone: string (nullable = true)\n",
      "\n"
     ]
    }
   ],
   "source": [
    "from pyspark.sql import SparkSession\n",
    "from pyspark.sql import functions as f\n",
    "import os\n",
    "\n",
    "os.environ[\"JAVA_HOME\"]=\"/usr/lib/jvm/java-8-openjdk-amd64\"\n",
    "\n",
    "spark = SparkSession.builder.appName('ABC').getOrCreate();\n",
    "df = spark.read.csv(\"taxis.csv\", header = True);\n",
    "df2 = spark.read.csv(\"zone.csv\", header = True);\n",
    "df.printSchema();\n",
    "\n",
    "df2.printSchema();"
   ]
  },
  {
   "cell_type": "markdown",
   "metadata": {},
   "source": [
    "## Punto 1 - Distancia Promedio de un recorrido en Taxi NYC"
   ]
  },
  {
   "cell_type": "code",
   "execution_count": 23,
   "metadata": {},
   "outputs": [
    {
     "name": "stdout",
     "output_type": "stream",
     "text": [
      "+------------------+\n",
      "|avg(trip_distance)|\n",
      "+------------------+\n",
      "|3.0785054986122593|\n",
      "+------------------+\n",
      "\n"
     ]
    }
   ],
   "source": [
    "\n",
    "dfD = df.select(f.col('trip_distance').cast('double')).groupBy().avg().show();"
   ]
  },
  {
   "cell_type": "markdown",
   "metadata": {},
   "source": [
    "## Punto 2  - Cuántas formas de pago hay?"
   ]
  },
  {
   "cell_type": "code",
   "execution_count": 34,
   "metadata": {},
   "outputs": [
    {
     "name": "stdout",
     "output_type": "stream",
     "text": [
      "+-----+\n",
      "|count|\n",
      "+-----+\n",
      "|    4|\n",
      "+-----+\n",
      "\n"
     ]
    }
   ],
   "source": [
    "dfP = df.select('payment_type').dropDuplicates().groupBy().count().show();"
   ]
  },
  {
   "cell_type": "markdown",
   "metadata": {},
   "source": [
    "## Punto 3 - Taxi Con mayor Numero de Viajes"
   ]
  },
  {
   "cell_type": "code",
   "execution_count": 65,
   "metadata": {},
   "outputs": [
    {
     "name": "stdout",
     "output_type": "stream",
     "text": [
      "+--------+\n",
      "|VendorID|\n",
      "+--------+\n",
      "|       2|\n",
      "+--------+\n",
      "\n"
     ]
    }
   ],
   "source": [
    "dfT = df.select('VendorID').groupBy('VendorID').count().orderBy(f.desc('count'));\n",
    "dfT2 = dfT.select('VendorID').limit(1).show();"
   ]
  },
  {
   "cell_type": "markdown",
   "metadata": {},
   "source": [
    "## Punto 4 - Listar número de viajes por dia en el mes de junio de 2019"
   ]
  },
  {
   "cell_type": "code",
   "execution_count": 18,
   "metadata": {},
   "outputs": [
    {
     "name": "stdout",
     "output_type": "stream",
     "text": [
      "+---+------+\n",
      "|day| count|\n",
      "+---+------+\n",
      "| 01|244836|\n",
      "| 02|209385|\n",
      "| 03|227670|\n",
      "| 04|227926|\n",
      "| 05|253309|\n",
      "| 06|261778|\n",
      "| 07|250221|\n",
      "| 08|229460|\n",
      "| 09|190194|\n",
      "| 10|221211|\n",
      "| 11|239921|\n",
      "| 12|251902|\n",
      "| 13|262813|\n",
      "| 14|242520|\n",
      "| 15|221153|\n",
      "| 16|187956|\n",
      "| 17|215627|\n",
      "| 18|242304|\n",
      "| 19|246680|\n",
      "| 20|255073|\n",
      "| 21|248782|\n",
      "| 22|221070|\n",
      "| 23|200305|\n",
      "| 24|218503|\n",
      "| 25|241479|\n",
      "| 26|249641|\n",
      "| 27|253765|\n",
      "| 28|242109|\n",
      "| 29|216025|\n",
      "| 30|166871|\n",
      "+---+------+\n",
      "\n"
     ]
    }
   ],
   "source": [
    "dfL = df.select(f.split('tpep_pickup_datetime','-')[0].alias('Year'),f.split('tpep_pickup_datetime','-')[1].alias('Month'),f.split(f.split('tpep_pickup_datetime','-')[2],' ')[0].alias('day'));\n",
    "dfL2 = dfL.where('Year = 2019 and Month = 6').groupBy('day').count().sort('day').show(30);"
   ]
  },
  {
   "cell_type": "markdown",
   "metadata": {},
   "source": [
    "## Punto 5 - Área donde se recoge mayor número de pasajeros "
   ]
  },
  {
   "cell_type": "code",
   "execution_count": 17,
   "metadata": {},
   "outputs": [
    {
     "name": "stdout",
     "output_type": "stream",
     "text": [
      "+----------+------+----------+--------------------+\n",
      "|LocationID| count|LocationID|                Zone|\n",
      "+----------+------+----------+--------------------+\n",
      "|       237|295057|       237|Upper East Side S...|\n",
      "+----------+------+----------+--------------------+\n",
      "\n"
     ]
    }
   ],
   "source": [
    "dfz = df.select(f.col('PULocationID').alias('LocationID')).groupBy('LocationID').count();\n",
    "dfz2 = dfz.orderBy(f.desc('count')).limit(1);\n",
    "dfzTemp = df2.select('LocationID','Zone').dropDuplicates();\n",
    "dfz3 = dfz2.join(dfzTemp,dfzTemp.LocationID == dfz2.LocationID ).show()"
   ]
  },
  {
   "cell_type": "markdown",
   "metadata": {},
   "source": [
    "## Punto 6 - Número de viajes que se dirigieron al “Bronx”"
   ]
  },
  {
   "cell_type": "code",
   "execution_count": 2,
   "metadata": {},
   "outputs": [
    {
     "name": "stdout",
     "output_type": "stream",
     "text": [
      "+-----+\n",
      "|count|\n",
      "+-----+\n",
      "|48267|\n",
      "+-----+\n",
      "\n"
     ]
    }
   ],
   "source": [
    "dfbr = df2.where(\"Borough = 'Bronx' \").select('LocationID');\n",
    "dfbr2 = df.select('DOLocationID').join(dfbr, dfbr.LocationID == df.DOLocationID);\n",
    "dfbr3 = dfbr2.select('LocationID').groupBy().count().show();"
   ]
  },
  {
   "cell_type": "markdown",
   "metadata": {},
   "source": [
    "## Punto 7 - Número promedio de personas por viaje que se dirigen al aeropuerto JFK\n"
   ]
  },
  {
   "cell_type": "code",
   "execution_count": 20,
   "metadata": {},
   "outputs": [
    {
     "name": "stdout",
     "output_type": "stream",
     "text": [
      "+----------+--------------------+\n",
      "|LocationID|avg(passenger_count)|\n",
      "+----------+--------------------+\n",
      "|       132|  1.6181272818577885|\n",
      "+----------+--------------------+\n",
      "\n"
     ]
    }
   ],
   "source": [
    "df_jfk2 = df2.where(\" Zone = 'JFK Airport'\").select('LocationID');\n",
    "df_jfk1 = df.select(f.col('DOLocationID'),f.col('passenger_count').cast('double'));\n",
    "\n",
    "df_jfk3 = df_jfk2.join(df_jfk1, df_jfk2.LocationID == df_jfk1.DOLocationID).groupBy('LocationID').avg('passenger_count').show();"
   ]
  },
  {
   "cell_type": "markdown",
   "metadata": {},
   "source": [
    "## Punto 8 - Distancia y Costo promedio de tomar un taxi del Aeropuerto JFK a Manhattan Valley"
   ]
  },
  {
   "cell_type": "code",
   "execution_count": null,
   "metadata": {},
   "outputs": [],
   "source": []
  }
 ],
 "metadata": {
  "kernelspec": {
   "display_name": "Python 2",
   "language": "python",
   "name": "python2"
  },
  "language_info": {
   "codemirror_mode": {
    "name": "ipython",
    "version": 2
   },
   "file_extension": ".py",
   "mimetype": "text/x-python",
   "name": "python",
   "nbconvert_exporter": "python",
   "pygments_lexer": "ipython2",
   "version": "2.7.15+"
  }
 },
 "nbformat": 4,
 "nbformat_minor": 2
}
